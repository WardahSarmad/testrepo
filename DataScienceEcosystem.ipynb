{
 "cells": [
  {
   "cell_type": "markdown",
   "id": "ed6d5ebb-844f-4e38-ad6c-16597a596bb5",
   "metadata": {},
   "source": [
    "# Data Science Tools and Ecosystem"
   ]
  },
  {
   "cell_type": "markdown",
   "id": "07cbe0a5-9dc0-4703-9f04-2bc231d0783b",
   "metadata": {},
   "source": [
    "In this notebook, Data science Tools and Ecosystems are summerized."
   ]
  },
  {
   "cell_type": "markdown",
   "id": "99adc5cb-e3b2-486e-9932-c69f2a8aaa9e",
   "metadata": {},
   "source": [
    "**Objectives:**\n",
    "* Popular Languages for Data Science\n",
    "* Commonn Libraries for Data Science\n",
    "* Data Science Tools\n",
    "* Arthimetic Operations\n",
    "* Creating Code and Markdown Cell"
   ]
  },
  {
   "cell_type": "markdown",
   "id": "90d31756-e41f-4cae-82e7-2bc993b67179",
   "metadata": {},
   "source": [
    "Some of the popular languages that Data Scientists use are:\n",
    "1. Python\n",
    "2. Java\n",
    "3. SQL"
   ]
  },
  {
   "cell_type": "markdown",
   "id": "7b527f7f-e4f3-4cfc-8d03-7c6c3ba2f370",
   "metadata": {},
   "source": [
    "Some of the commonly used libraries used by Data Scientists include:\n",
    "\n",
    "1. Numpy\n",
    "2. Matplotlib\n",
    "3. TensorFlow\n"
   ]
  },
  {
   "cell_type": "markdown",
   "id": "7a7c1ff9-0690-4005-8f49-0b7121c98072",
   "metadata": {},
   "source": [
    "| Data Science Tools| \n",
    "| ------------------| \n",
    "| Apache Spark| \n",
    "| Jupyter| \n",
    "| Rstudio| "
   ]
  },
  {
   "cell_type": "markdown",
   "id": "d80a8b7d-1433-41b7-a7ec-5a616e11ac83",
   "metadata": {},
   "source": [
    "### Below are a few examples of evaluating arithmetic expressions in Python"
   ]
  },
  {
   "cell_type": "code",
   "execution_count": 4,
   "id": "d1b49afc-dd57-450b-a410-5517973aa884",
   "metadata": {
    "scrolled": true
   },
   "outputs": [
    {
     "data": {
      "text/plain": [
       "17"
      ]
     },
     "execution_count": 4,
     "metadata": {},
     "output_type": "execute_result"
    }
   ],
   "source": [
    "#This is a simple arithmetic expression to multiply then add integers.\n",
    "(3*4)+5"
   ]
  },
  {
   "cell_type": "code",
   "execution_count": 5,
   "id": "e7cf7baa-987e-423f-af0f-ffeb262113bb",
   "metadata": {},
   "outputs": [
    {
     "data": {
      "text/plain": [
       "3.3333333333333335"
      ]
     },
     "execution_count": 5,
     "metadata": {},
     "output_type": "execute_result"
    }
   ],
   "source": [
    "#This will convert 200 minutes to hours by diving by 60\n",
    "200/60"
   ]
  },
  {
   "cell_type": "markdown",
   "id": "117369dc-afab-4d15-9793-2ab363c75de1",
   "metadata": {},
   "source": [
    "## Author:\n",
    "Wardah Sarmad"
   ]
  }
 ],
 "metadata": {
  "kernelspec": {
   "display_name": "Python 3 (ipykernel)",
   "language": "python",
   "name": "python3"
  },
  "language_info": {
   "codemirror_mode": {
    "name": "ipython",
    "version": 3
   },
   "file_extension": ".py",
   "mimetype": "text/x-python",
   "name": "python",
   "nbconvert_exporter": "python",
   "pygments_lexer": "ipython3",
   "version": "3.11.9"
  }
 },
 "nbformat": 4,
 "nbformat_minor": 5
}
